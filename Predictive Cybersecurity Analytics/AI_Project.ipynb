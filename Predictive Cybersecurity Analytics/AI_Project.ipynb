{
 "cells": [
  {
   "cell_type": "code",
   "execution_count": 678,
   "id": "0e2d2f93",
   "metadata": {},
   "outputs": [],
   "source": [
    "#library imports\n",
    "\n",
    "import numpy as np\n",
    "import pandas as pd\n",
    "import networkx as nx\n",
    "import matplotlib.pyplot as plt\n",
    "import seaborn as sns\n",
    "\n",
    "#classifiers\n",
    "from sklearn.cluster import KMeans\n",
    "from sklearn.neural_network import MLPClassifier\n",
    "from sklearn.tree import DecisionTreeClassifier\n",
    "from sklearn.neighbors import KNeighborsClassifier\n",
    "from sklearn.model_selection import train_test_split\n",
    "from sklearn import tree\n",
    "\n",
    "#mterics\n",
    "from sklearn.metrics import accuracy_score\n",
    "from sklearn.metrics import f1_score\n",
    "from sklearn.metrics import recall_score\n",
    "from sklearn.metrics import precision_score\n",
    "#scalers\n",
    "from sklearn.preprocessing import StandardScaler , MinMaxScaler\n",
    "\n",
    "\n",
    "\n",
    "from sklearn.decomposition import PCA\n",
    "\n",
    "import warnings\n",
    "warnings.filterwarnings('ignore')"
   ]
  },
  {
   "cell_type": "markdown",
   "id": "310d816e",
   "metadata": {},
   "source": [
    "# Data Reading And Preprocessing "
   ]
  },
  {
   "cell_type": "code",
   "execution_count": 679,
   "id": "6b3691c0",
   "metadata": {},
   "outputs": [],
   "source": [
    "df = pd.read_csv(\"Dataset.txt\")"
   ]
  },
  {
   "cell_type": "code",
   "execution_count": 680,
   "id": "ec57583a",
   "metadata": {},
   "outputs": [
    {
     "data": {
      "text/html": [
       "<div>\n",
       "<style scoped>\n",
       "    .dataframe tbody tr th:only-of-type {\n",
       "        vertical-align: middle;\n",
       "    }\n",
       "\n",
       "    .dataframe tbody tr th {\n",
       "        vertical-align: top;\n",
       "    }\n",
       "\n",
       "    .dataframe thead th {\n",
       "        text-align: right;\n",
       "    }\n",
       "</style>\n",
       "<table border=\"1\" class=\"dataframe\">\n",
       "  <thead>\n",
       "    <tr style=\"text-align: right;\">\n",
       "      <th></th>\n",
       "      <th>duration</th>\n",
       "      <th>src_bytes</th>\n",
       "      <th>dst_bytes</th>\n",
       "      <th>land</th>\n",
       "      <th>wrong_fragment</th>\n",
       "      <th>urgent</th>\n",
       "      <th>hot</th>\n",
       "      <th>num_failed_logins</th>\n",
       "      <th>logged_in</th>\n",
       "      <th>num_compromised</th>\n",
       "      <th>...</th>\n",
       "      <th>dst_host_srv_count</th>\n",
       "      <th>dst_host_same_srv_rate</th>\n",
       "      <th>dst_host_diff_srv_rate</th>\n",
       "      <th>dst_host_same_src_port_rate</th>\n",
       "      <th>dst_host_srv_diff_host_rate</th>\n",
       "      <th>dst_host_serror_rate</th>\n",
       "      <th>dst_host_srv_serror_rate</th>\n",
       "      <th>dst_host_rerror_rate</th>\n",
       "      <th>dst_host_srv_rerror_rate</th>\n",
       "      <th>occurance</th>\n",
       "    </tr>\n",
       "  </thead>\n",
       "  <tbody>\n",
       "    <tr>\n",
       "      <th>count</th>\n",
       "      <td>125973.00000</td>\n",
       "      <td>1.259730e+05</td>\n",
       "      <td>1.259730e+05</td>\n",
       "      <td>125973.000000</td>\n",
       "      <td>125973.000000</td>\n",
       "      <td>125973.000000</td>\n",
       "      <td>125973.000000</td>\n",
       "      <td>125973.000000</td>\n",
       "      <td>125973.000000</td>\n",
       "      <td>125973.000000</td>\n",
       "      <td>...</td>\n",
       "      <td>125973.000000</td>\n",
       "      <td>125973.000000</td>\n",
       "      <td>125973.000000</td>\n",
       "      <td>125973.000000</td>\n",
       "      <td>125973.000000</td>\n",
       "      <td>125973.000000</td>\n",
       "      <td>125973.000000</td>\n",
       "      <td>125973.000000</td>\n",
       "      <td>125973.000000</td>\n",
       "      <td>125973.000000</td>\n",
       "    </tr>\n",
       "    <tr>\n",
       "      <th>mean</th>\n",
       "      <td>287.14465</td>\n",
       "      <td>4.556674e+04</td>\n",
       "      <td>1.977911e+04</td>\n",
       "      <td>0.000198</td>\n",
       "      <td>0.022687</td>\n",
       "      <td>0.000111</td>\n",
       "      <td>0.204409</td>\n",
       "      <td>0.001222</td>\n",
       "      <td>0.395736</td>\n",
       "      <td>0.279250</td>\n",
       "      <td>...</td>\n",
       "      <td>115.653005</td>\n",
       "      <td>0.521242</td>\n",
       "      <td>0.082951</td>\n",
       "      <td>0.148379</td>\n",
       "      <td>0.032542</td>\n",
       "      <td>0.284452</td>\n",
       "      <td>0.278485</td>\n",
       "      <td>0.118832</td>\n",
       "      <td>0.120240</td>\n",
       "      <td>19.504060</td>\n",
       "    </tr>\n",
       "    <tr>\n",
       "      <th>std</th>\n",
       "      <td>2604.51531</td>\n",
       "      <td>5.870331e+06</td>\n",
       "      <td>4.021269e+06</td>\n",
       "      <td>0.014086</td>\n",
       "      <td>0.253530</td>\n",
       "      <td>0.014366</td>\n",
       "      <td>2.149968</td>\n",
       "      <td>0.045239</td>\n",
       "      <td>0.489010</td>\n",
       "      <td>23.942042</td>\n",
       "      <td>...</td>\n",
       "      <td>110.702741</td>\n",
       "      <td>0.448949</td>\n",
       "      <td>0.188922</td>\n",
       "      <td>0.308997</td>\n",
       "      <td>0.112564</td>\n",
       "      <td>0.444784</td>\n",
       "      <td>0.445669</td>\n",
       "      <td>0.306557</td>\n",
       "      <td>0.319459</td>\n",
       "      <td>2.291503</td>\n",
       "    </tr>\n",
       "    <tr>\n",
       "      <th>min</th>\n",
       "      <td>0.00000</td>\n",
       "      <td>0.000000e+00</td>\n",
       "      <td>0.000000e+00</td>\n",
       "      <td>0.000000</td>\n",
       "      <td>0.000000</td>\n",
       "      <td>0.000000</td>\n",
       "      <td>0.000000</td>\n",
       "      <td>0.000000</td>\n",
       "      <td>0.000000</td>\n",
       "      <td>0.000000</td>\n",
       "      <td>...</td>\n",
       "      <td>0.000000</td>\n",
       "      <td>0.000000</td>\n",
       "      <td>0.000000</td>\n",
       "      <td>0.000000</td>\n",
       "      <td>0.000000</td>\n",
       "      <td>0.000000</td>\n",
       "      <td>0.000000</td>\n",
       "      <td>0.000000</td>\n",
       "      <td>0.000000</td>\n",
       "      <td>0.000000</td>\n",
       "    </tr>\n",
       "    <tr>\n",
       "      <th>25%</th>\n",
       "      <td>0.00000</td>\n",
       "      <td>0.000000e+00</td>\n",
       "      <td>0.000000e+00</td>\n",
       "      <td>0.000000</td>\n",
       "      <td>0.000000</td>\n",
       "      <td>0.000000</td>\n",
       "      <td>0.000000</td>\n",
       "      <td>0.000000</td>\n",
       "      <td>0.000000</td>\n",
       "      <td>0.000000</td>\n",
       "      <td>...</td>\n",
       "      <td>10.000000</td>\n",
       "      <td>0.050000</td>\n",
       "      <td>0.000000</td>\n",
       "      <td>0.000000</td>\n",
       "      <td>0.000000</td>\n",
       "      <td>0.000000</td>\n",
       "      <td>0.000000</td>\n",
       "      <td>0.000000</td>\n",
       "      <td>0.000000</td>\n",
       "      <td>18.000000</td>\n",
       "    </tr>\n",
       "    <tr>\n",
       "      <th>50%</th>\n",
       "      <td>0.00000</td>\n",
       "      <td>4.400000e+01</td>\n",
       "      <td>0.000000e+00</td>\n",
       "      <td>0.000000</td>\n",
       "      <td>0.000000</td>\n",
       "      <td>0.000000</td>\n",
       "      <td>0.000000</td>\n",
       "      <td>0.000000</td>\n",
       "      <td>0.000000</td>\n",
       "      <td>0.000000</td>\n",
       "      <td>...</td>\n",
       "      <td>63.000000</td>\n",
       "      <td>0.510000</td>\n",
       "      <td>0.020000</td>\n",
       "      <td>0.000000</td>\n",
       "      <td>0.000000</td>\n",
       "      <td>0.000000</td>\n",
       "      <td>0.000000</td>\n",
       "      <td>0.000000</td>\n",
       "      <td>0.000000</td>\n",
       "      <td>20.000000</td>\n",
       "    </tr>\n",
       "    <tr>\n",
       "      <th>75%</th>\n",
       "      <td>0.00000</td>\n",
       "      <td>2.760000e+02</td>\n",
       "      <td>5.160000e+02</td>\n",
       "      <td>0.000000</td>\n",
       "      <td>0.000000</td>\n",
       "      <td>0.000000</td>\n",
       "      <td>0.000000</td>\n",
       "      <td>0.000000</td>\n",
       "      <td>1.000000</td>\n",
       "      <td>0.000000</td>\n",
       "      <td>...</td>\n",
       "      <td>255.000000</td>\n",
       "      <td>1.000000</td>\n",
       "      <td>0.070000</td>\n",
       "      <td>0.060000</td>\n",
       "      <td>0.020000</td>\n",
       "      <td>1.000000</td>\n",
       "      <td>1.000000</td>\n",
       "      <td>0.000000</td>\n",
       "      <td>0.000000</td>\n",
       "      <td>21.000000</td>\n",
       "    </tr>\n",
       "    <tr>\n",
       "      <th>max</th>\n",
       "      <td>42908.00000</td>\n",
       "      <td>1.379964e+09</td>\n",
       "      <td>1.309937e+09</td>\n",
       "      <td>1.000000</td>\n",
       "      <td>3.000000</td>\n",
       "      <td>3.000000</td>\n",
       "      <td>77.000000</td>\n",
       "      <td>5.000000</td>\n",
       "      <td>1.000000</td>\n",
       "      <td>7479.000000</td>\n",
       "      <td>...</td>\n",
       "      <td>255.000000</td>\n",
       "      <td>1.000000</td>\n",
       "      <td>1.000000</td>\n",
       "      <td>1.000000</td>\n",
       "      <td>1.000000</td>\n",
       "      <td>1.000000</td>\n",
       "      <td>1.000000</td>\n",
       "      <td>1.000000</td>\n",
       "      <td>1.000000</td>\n",
       "      <td>21.000000</td>\n",
       "    </tr>\n",
       "  </tbody>\n",
       "</table>\n",
       "<p>8 rows × 39 columns</p>\n",
       "</div>"
      ],
      "text/plain": [
       "           duration     src_bytes     dst_bytes           land  \\\n",
       "count  125973.00000  1.259730e+05  1.259730e+05  125973.000000   \n",
       "mean      287.14465  4.556674e+04  1.977911e+04       0.000198   \n",
       "std      2604.51531  5.870331e+06  4.021269e+06       0.014086   \n",
       "min         0.00000  0.000000e+00  0.000000e+00       0.000000   \n",
       "25%         0.00000  0.000000e+00  0.000000e+00       0.000000   \n",
       "50%         0.00000  4.400000e+01  0.000000e+00       0.000000   \n",
       "75%         0.00000  2.760000e+02  5.160000e+02       0.000000   \n",
       "max     42908.00000  1.379964e+09  1.309937e+09       1.000000   \n",
       "\n",
       "       wrong_fragment         urgent            hot  num_failed_logins  \\\n",
       "count   125973.000000  125973.000000  125973.000000      125973.000000   \n",
       "mean         0.022687       0.000111       0.204409           0.001222   \n",
       "std          0.253530       0.014366       2.149968           0.045239   \n",
       "min          0.000000       0.000000       0.000000           0.000000   \n",
       "25%          0.000000       0.000000       0.000000           0.000000   \n",
       "50%          0.000000       0.000000       0.000000           0.000000   \n",
       "75%          0.000000       0.000000       0.000000           0.000000   \n",
       "max          3.000000       3.000000      77.000000           5.000000   \n",
       "\n",
       "           logged_in  num_compromised  ...  dst_host_srv_count  \\\n",
       "count  125973.000000    125973.000000  ...       125973.000000   \n",
       "mean        0.395736         0.279250  ...          115.653005   \n",
       "std         0.489010        23.942042  ...          110.702741   \n",
       "min         0.000000         0.000000  ...            0.000000   \n",
       "25%         0.000000         0.000000  ...           10.000000   \n",
       "50%         0.000000         0.000000  ...           63.000000   \n",
       "75%         1.000000         0.000000  ...          255.000000   \n",
       "max         1.000000      7479.000000  ...          255.000000   \n",
       "\n",
       "       dst_host_same_srv_rate  dst_host_diff_srv_rate  \\\n",
       "count           125973.000000           125973.000000   \n",
       "mean                 0.521242                0.082951   \n",
       "std                  0.448949                0.188922   \n",
       "min                  0.000000                0.000000   \n",
       "25%                  0.050000                0.000000   \n",
       "50%                  0.510000                0.020000   \n",
       "75%                  1.000000                0.070000   \n",
       "max                  1.000000                1.000000   \n",
       "\n",
       "       dst_host_same_src_port_rate  dst_host_srv_diff_host_rate  \\\n",
       "count                125973.000000                125973.000000   \n",
       "mean                      0.148379                     0.032542   \n",
       "std                       0.308997                     0.112564   \n",
       "min                       0.000000                     0.000000   \n",
       "25%                       0.000000                     0.000000   \n",
       "50%                       0.000000                     0.000000   \n",
       "75%                       0.060000                     0.020000   \n",
       "max                       1.000000                     1.000000   \n",
       "\n",
       "       dst_host_serror_rate  dst_host_srv_serror_rate  dst_host_rerror_rate  \\\n",
       "count         125973.000000             125973.000000         125973.000000   \n",
       "mean               0.284452                  0.278485              0.118832   \n",
       "std                0.444784                  0.445669              0.306557   \n",
       "min                0.000000                  0.000000              0.000000   \n",
       "25%                0.000000                  0.000000              0.000000   \n",
       "50%                0.000000                  0.000000              0.000000   \n",
       "75%                1.000000                  1.000000              0.000000   \n",
       "max                1.000000                  1.000000              1.000000   \n",
       "\n",
       "       dst_host_srv_rerror_rate      occurance  \n",
       "count             125973.000000  125973.000000  \n",
       "mean                   0.120240      19.504060  \n",
       "std                    0.319459       2.291503  \n",
       "min                    0.000000       0.000000  \n",
       "25%                    0.000000      18.000000  \n",
       "50%                    0.000000      20.000000  \n",
       "75%                    0.000000      21.000000  \n",
       "max                    1.000000      21.000000  \n",
       "\n",
       "[8 rows x 39 columns]"
      ]
     },
     "execution_count": 680,
     "metadata": {},
     "output_type": "execute_result"
    }
   ],
   "source": [
    "df.describe()"
   ]
  },
  {
   "cell_type": "code",
   "execution_count": 681,
   "id": "2018429d",
   "metadata": {},
   "outputs": [
    {
     "data": {
      "text/plain": [
       "duration                       0\n",
       "protocol_type                  0\n",
       "service                        0\n",
       "flag                           0\n",
       "src_bytes                      0\n",
       "dst_bytes                      0\n",
       "land                           0\n",
       "wrong_fragment                 0\n",
       "urgent                         0\n",
       "hot                            0\n",
       "num_failed_logins              0\n",
       "logged_in                      0\n",
       "num_compromised                0\n",
       "root_shell                     0\n",
       "su_attempted                   0\n",
       "num_root                       0\n",
       "num_file_creations             0\n",
       "num_shells                     0\n",
       "num_access_files               0\n",
       "num_outbound_cmds              0\n",
       "is_host_login                  0\n",
       "is_guest_login                 0\n",
       "count                          0\n",
       "srv_count                      0\n",
       "serror_rate                    0\n",
       "srv_serror_rate                0\n",
       "rerror_rate                    0\n",
       "srv_rerror_rate                0\n",
       "same_srv_rate                  0\n",
       "diff_srv_rate                  0\n",
       "srv_diff_host_rate             0\n",
       "dst_host_count                 0\n",
       "dst_host_srv_count             0\n",
       "dst_host_same_srv_rate         0\n",
       "dst_host_diff_srv_rate         0\n",
       "dst_host_same_src_port_rate    0\n",
       "dst_host_srv_diff_host_rate    0\n",
       "dst_host_serror_rate           0\n",
       "dst_host_srv_serror_rate       0\n",
       "dst_host_rerror_rate           0\n",
       "dst_host_srv_rerror_rate       0\n",
       "attack_category                0\n",
       "occurance                      0\n",
       "dtype: int64"
      ]
     },
     "execution_count": 681,
     "metadata": {},
     "output_type": "execute_result"
    }
   ],
   "source": [
    "df.isnull().sum() # no null values"
   ]
  },
  {
   "cell_type": "code",
   "execution_count": 682,
   "id": "6ce95aa9",
   "metadata": {},
   "outputs": [
    {
     "data": {
      "text/plain": [
       "array([0, 1, 2], dtype=int64)"
      ]
     },
     "execution_count": 682,
     "metadata": {},
     "output_type": "execute_result"
    }
   ],
   "source": [
    "df['protocol_type'] = df['protocol_type'].replace(\"tcp\" ,0)  # encoding\n",
    "df['protocol_type'] = df['protocol_type'].replace(\"udp\" , 1)  #  encoding\n",
    "df['protocol_type'] = df['protocol_type'].replace(\"icmp\",2)  # encoding\n",
    "df['protocol_type'].unique()\n"
   ]
  },
  {
   "cell_type": "code",
   "execution_count": 683,
   "id": "8b28a5d1",
   "metadata": {},
   "outputs": [],
   "source": [
    "for i in range(len(df['service'].unique())):  # converitng string to numeric\n",
    "    df['service'] = df['service'].replace(df['service'].unique()[i] ,i) "
   ]
  },
  {
   "cell_type": "code",
   "execution_count": 684,
   "id": "95631185",
   "metadata": {},
   "outputs": [
    {
     "data": {
      "text/plain": [
       "array([ 0,  1,  2,  3,  4,  5,  6,  7,  8,  9, 10, 11, 12, 13, 14, 15, 16,\n",
       "       17, 18, 19, 20, 21, 22, 23, 24, 25, 26, 27, 28, 29, 30, 31, 32, 33,\n",
       "       34, 35, 36, 37, 38, 39, 40, 41, 42, 43, 44, 45, 46, 47, 48, 49, 50,\n",
       "       51, 52, 53, 54, 55, 56, 57, 58, 59, 60, 61, 62, 63, 64, 65, 66, 67,\n",
       "       68, 69], dtype=int64)"
      ]
     },
     "execution_count": 684,
     "metadata": {},
     "output_type": "execute_result"
    }
   ],
   "source": [
    "df['service'].unique()"
   ]
  },
  {
   "cell_type": "code",
   "execution_count": 685,
   "id": "efe68155",
   "metadata": {},
   "outputs": [],
   "source": [
    "for i in range(len(df['flag'].unique())):  # converitng string to numeric\n",
    "    df['flag'] = df['flag'].replace(df['flag'].unique()[i] ,i+100) "
   ]
  },
  {
   "cell_type": "code",
   "execution_count": 686,
   "id": "60ae751b",
   "metadata": {},
   "outputs": [
    {
     "data": {
      "text/plain": [
       "array([100, 101, 102, 103, 104, 105, 106, 107, 108, 109, 110], dtype=int64)"
      ]
     },
     "execution_count": 686,
     "metadata": {},
     "output_type": "execute_result"
    }
   ],
   "source": [
    "df['flag'].unique()"
   ]
  },
  {
   "cell_type": "code",
   "execution_count": null,
   "id": "1052aa96",
   "metadata": {},
   "outputs": [],
   "source": []
  },
  {
   "cell_type": "markdown",
   "id": "45a4b93a",
   "metadata": {},
   "source": [
    "Reading the Atack_type file for mapping"
   ]
  },
  {
   "cell_type": "code",
   "execution_count": 687,
   "id": "e71aa3ac",
   "metadata": {},
   "outputs": [],
   "source": [
    "label = pd.read_csv('Attack_types.txt')  # target class"
   ]
  },
  {
   "cell_type": "code",
   "execution_count": 688,
   "id": "30b374f8",
   "metadata": {},
   "outputs": [],
   "source": [
    "label = pd.DataFrame(label.values , columns = [\"attack_type\"])"
   ]
  },
  {
   "cell_type": "code",
   "execution_count": 689,
   "id": "03568567",
   "metadata": {},
   "outputs": [
    {
     "data": {
      "text/plain": [
       "40"
      ]
     },
     "execution_count": 689,
     "metadata": {},
     "output_type": "execute_result"
    }
   ],
   "source": [
    "len(label['attack_type'].unique())"
   ]
  },
  {
   "cell_type": "code",
   "execution_count": 690,
   "id": "f91e9bed",
   "metadata": {},
   "outputs": [
    {
     "data": {
      "text/plain": [
       "array(['normal', 'neptune', 'warezclient', 'ipsweep', 'portsweep',\n",
       "       'teardrop', 'nmap', 'satan', 'smurf', 'pod', 'back',\n",
       "       'guess_passwd', 'ftp_write', 'multihop', 'rootkit',\n",
       "       'buffer_overflow', 'imap', 'warezmaster', 'phf', 'land',\n",
       "       'loadmodule', 'spy', 'perl'], dtype=object)"
      ]
     },
     "execution_count": 690,
     "metadata": {},
     "output_type": "execute_result"
    }
   ],
   "source": [
    "df['attack_category'].unique()"
   ]
  },
  {
   "cell_type": "code",
   "execution_count": 691,
   "id": "61cd0b5c",
   "metadata": {},
   "outputs": [
    {
     "data": {
      "text/plain": [
       "array(['apache2 dos', 'back dos', 'mailbomb dos', 'processtable dos',\n",
       "       'snmpgetattack dos', 'teardrop dos', 'smurf dos', 'land dos',\n",
       "       'neptune dos', 'pod dos', 'udpstorm dos', 'ps u2r',\n",
       "       'buffer_overflow u2r', 'perl u2r', 'rootkit u2r', 'loadmodule u2r',\n",
       "       'xterm u2r', 'sqlattack u2r', 'httptunnel u2r', 'ftp_write r2l',\n",
       "       'guess_passwd r2l', 'snmpguess r2l', 'imap r2l', 'spy r2l',\n",
       "       'warezclient r2l', 'warezmaster r2l', 'multihop r2l', 'phf r2l',\n",
       "       'named r2l', 'sendmail r2l', 'xlock r2l', 'xsnoop r2l', 'worm r2l',\n",
       "       'nmap probe', 'ipsweep probe', 'portsweep probe', 'satan probe',\n",
       "       'mscan probe', 'saint probe', 'worm probe'], dtype=object)"
      ]
     },
     "execution_count": 691,
     "metadata": {},
     "output_type": "execute_result"
    }
   ],
   "source": [
    "label['attack_type'].unique()"
   ]
  },
  {
   "cell_type": "markdown",
   "id": "24bc2f8b",
   "metadata": {},
   "source": [
    "## Mapping the attack types against categories"
   ]
  },
  {
   "cell_type": "code",
   "execution_count": 692,
   "id": "06b48ce1",
   "metadata": {},
   "outputs": [],
   "source": [
    "#dictionary for mapping of attack categories\n",
    "cyber_attack_types = {'normal':'normal','neptune':'dos',\n",
    "            'warezclient':'r21' , 'ipsweep':'probe' ,\n",
    "          'teardrop':'dos' , 'portsweep':'probe' ,\n",
    "                      'nmap':'probe' , 'satan':'probe' ,\n",
    "                      'smurf':'dos' , 'pod':'dos' , 'back':'dos' ,\n",
    "                      'guess_passwd':'r21' , 'ftp_write':'r21' ,\n",
    "                      'multihop':'r21' , 'rootkit':'u2r' , \n",
    "                      'httptunnel':'u2r' ,'snmpguess':'r21' ,\n",
    "                      'imap':'r21' , 'spy':'r21' , 'warezmaster':'r21' ,\n",
    "                      'phf':'r21' , 'named':'r21' ,'sendmail':'r21' ,\n",
    "                      'xlock':'r21' , 'xsnoop':'r21', 'worm':'r21',\n",
    "                      'mscan':'probe' ,'saint':'probe' , 'worm' :'probe' ,\n",
    "                      'buffer_overflow':'u2r' , 'loadmodule':'u2r',\n",
    "                      'land':'dos' ,'perl':'u2r'\n",
    "         }"
   ]
  },
  {
   "cell_type": "code",
   "execution_count": 693,
   "id": "f231056f",
   "metadata": {},
   "outputs": [],
   "source": [
    "df['target_label'] = df['attack_category'] # adding target label to the data frame"
   ]
  },
  {
   "cell_type": "code",
   "execution_count": 694,
   "id": "b74c9404",
   "metadata": {},
   "outputs": [],
   "source": [
    "df['target_label'] = df['target_label'].map(cyber_attack_types) #mapping values in dataframe"
   ]
  },
  {
   "cell_type": "code",
   "execution_count": 695,
   "id": "a07bbe88",
   "metadata": {},
   "outputs": [
    {
     "data": {
      "text/plain": [
       "array(['normal', 'dos', 'r21', 'probe', 'u2r'], dtype=object)"
      ]
     },
     "execution_count": 695,
     "metadata": {},
     "output_type": "execute_result"
    }
   ],
   "source": [
    "df['target_label'].unique()  # total 5 unique classes"
   ]
  },
  {
   "cell_type": "code",
   "execution_count": 696,
   "id": "5c90ac7c",
   "metadata": {},
   "outputs": [],
   "source": [
    "#encoding the target labels\n",
    "enc_labels = {\n",
    "    'normal' : 0 ,\n",
    "    'dos' : 1 ,\n",
    "    'r21' : 2 ,\n",
    "    'probe' : 3 ,\n",
    "    'u2r' : 4\n",
    "}"
   ]
  },
  {
   "cell_type": "code",
   "execution_count": 697,
   "id": "7d4c7a9f",
   "metadata": {},
   "outputs": [],
   "source": [
    "df['target_label'] = df['target_label'].map(enc_labels) # mapping the encoded labels"
   ]
  },
  {
   "cell_type": "code",
   "execution_count": 698,
   "id": "edc4fe6d",
   "metadata": {},
   "outputs": [
    {
     "data": {
      "text/plain": [
       "array([0, 1, 2, 3, 4], dtype=int64)"
      ]
     },
     "execution_count": 698,
     "metadata": {},
     "output_type": "execute_result"
    }
   ],
   "source": [
    "df['target_label'].unique()"
   ]
  },
  {
   "cell_type": "code",
   "execution_count": 699,
   "id": "7e5c8024",
   "metadata": {},
   "outputs": [
    {
     "data": {
      "text/html": [
       "<div>\n",
       "<style scoped>\n",
       "    .dataframe tbody tr th:only-of-type {\n",
       "        vertical-align: middle;\n",
       "    }\n",
       "\n",
       "    .dataframe tbody tr th {\n",
       "        vertical-align: top;\n",
       "    }\n",
       "\n",
       "    .dataframe thead th {\n",
       "        text-align: right;\n",
       "    }\n",
       "</style>\n",
       "<table border=\"1\" class=\"dataframe\">\n",
       "  <thead>\n",
       "    <tr style=\"text-align: right;\">\n",
       "      <th></th>\n",
       "      <th>duration</th>\n",
       "      <th>protocol_type</th>\n",
       "      <th>service</th>\n",
       "      <th>flag</th>\n",
       "      <th>src_bytes</th>\n",
       "      <th>dst_bytes</th>\n",
       "      <th>land</th>\n",
       "      <th>wrong_fragment</th>\n",
       "      <th>urgent</th>\n",
       "      <th>hot</th>\n",
       "      <th>...</th>\n",
       "      <th>dst_host_diff_srv_rate</th>\n",
       "      <th>dst_host_same_src_port_rate</th>\n",
       "      <th>dst_host_srv_diff_host_rate</th>\n",
       "      <th>dst_host_serror_rate</th>\n",
       "      <th>dst_host_srv_serror_rate</th>\n",
       "      <th>dst_host_rerror_rate</th>\n",
       "      <th>dst_host_srv_rerror_rate</th>\n",
       "      <th>attack_category</th>\n",
       "      <th>occurance</th>\n",
       "      <th>target_label</th>\n",
       "    </tr>\n",
       "  </thead>\n",
       "  <tbody>\n",
       "    <tr>\n",
       "      <th>0</th>\n",
       "      <td>0</td>\n",
       "      <td>0</td>\n",
       "      <td>0</td>\n",
       "      <td>100</td>\n",
       "      <td>491</td>\n",
       "      <td>0</td>\n",
       "      <td>0</td>\n",
       "      <td>0</td>\n",
       "      <td>0</td>\n",
       "      <td>0</td>\n",
       "      <td>...</td>\n",
       "      <td>0.03</td>\n",
       "      <td>0.17</td>\n",
       "      <td>0.00</td>\n",
       "      <td>0.00</td>\n",
       "      <td>0.00</td>\n",
       "      <td>0.05</td>\n",
       "      <td>0.00</td>\n",
       "      <td>normal</td>\n",
       "      <td>20</td>\n",
       "      <td>0</td>\n",
       "    </tr>\n",
       "    <tr>\n",
       "      <th>1</th>\n",
       "      <td>0</td>\n",
       "      <td>1</td>\n",
       "      <td>1</td>\n",
       "      <td>100</td>\n",
       "      <td>146</td>\n",
       "      <td>0</td>\n",
       "      <td>0</td>\n",
       "      <td>0</td>\n",
       "      <td>0</td>\n",
       "      <td>0</td>\n",
       "      <td>...</td>\n",
       "      <td>0.60</td>\n",
       "      <td>0.88</td>\n",
       "      <td>0.00</td>\n",
       "      <td>0.00</td>\n",
       "      <td>0.00</td>\n",
       "      <td>0.00</td>\n",
       "      <td>0.00</td>\n",
       "      <td>normal</td>\n",
       "      <td>15</td>\n",
       "      <td>0</td>\n",
       "    </tr>\n",
       "    <tr>\n",
       "      <th>2</th>\n",
       "      <td>0</td>\n",
       "      <td>0</td>\n",
       "      <td>2</td>\n",
       "      <td>101</td>\n",
       "      <td>0</td>\n",
       "      <td>0</td>\n",
       "      <td>0</td>\n",
       "      <td>0</td>\n",
       "      <td>0</td>\n",
       "      <td>0</td>\n",
       "      <td>...</td>\n",
       "      <td>0.05</td>\n",
       "      <td>0.00</td>\n",
       "      <td>0.00</td>\n",
       "      <td>1.00</td>\n",
       "      <td>1.00</td>\n",
       "      <td>0.00</td>\n",
       "      <td>0.00</td>\n",
       "      <td>neptune</td>\n",
       "      <td>19</td>\n",
       "      <td>1</td>\n",
       "    </tr>\n",
       "    <tr>\n",
       "      <th>3</th>\n",
       "      <td>0</td>\n",
       "      <td>0</td>\n",
       "      <td>3</td>\n",
       "      <td>100</td>\n",
       "      <td>232</td>\n",
       "      <td>8153</td>\n",
       "      <td>0</td>\n",
       "      <td>0</td>\n",
       "      <td>0</td>\n",
       "      <td>0</td>\n",
       "      <td>...</td>\n",
       "      <td>0.00</td>\n",
       "      <td>0.03</td>\n",
       "      <td>0.04</td>\n",
       "      <td>0.03</td>\n",
       "      <td>0.01</td>\n",
       "      <td>0.00</td>\n",
       "      <td>0.01</td>\n",
       "      <td>normal</td>\n",
       "      <td>21</td>\n",
       "      <td>0</td>\n",
       "    </tr>\n",
       "    <tr>\n",
       "      <th>4</th>\n",
       "      <td>0</td>\n",
       "      <td>0</td>\n",
       "      <td>3</td>\n",
       "      <td>100</td>\n",
       "      <td>199</td>\n",
       "      <td>420</td>\n",
       "      <td>0</td>\n",
       "      <td>0</td>\n",
       "      <td>0</td>\n",
       "      <td>0</td>\n",
       "      <td>...</td>\n",
       "      <td>0.00</td>\n",
       "      <td>0.00</td>\n",
       "      <td>0.00</td>\n",
       "      <td>0.00</td>\n",
       "      <td>0.00</td>\n",
       "      <td>0.00</td>\n",
       "      <td>0.00</td>\n",
       "      <td>normal</td>\n",
       "      <td>21</td>\n",
       "      <td>0</td>\n",
       "    </tr>\n",
       "    <tr>\n",
       "      <th>...</th>\n",
       "      <td>...</td>\n",
       "      <td>...</td>\n",
       "      <td>...</td>\n",
       "      <td>...</td>\n",
       "      <td>...</td>\n",
       "      <td>...</td>\n",
       "      <td>...</td>\n",
       "      <td>...</td>\n",
       "      <td>...</td>\n",
       "      <td>...</td>\n",
       "      <td>...</td>\n",
       "      <td>...</td>\n",
       "      <td>...</td>\n",
       "      <td>...</td>\n",
       "      <td>...</td>\n",
       "      <td>...</td>\n",
       "      <td>...</td>\n",
       "      <td>...</td>\n",
       "      <td>...</td>\n",
       "      <td>...</td>\n",
       "      <td>...</td>\n",
       "    </tr>\n",
       "    <tr>\n",
       "      <th>125968</th>\n",
       "      <td>0</td>\n",
       "      <td>0</td>\n",
       "      <td>2</td>\n",
       "      <td>101</td>\n",
       "      <td>0</td>\n",
       "      <td>0</td>\n",
       "      <td>0</td>\n",
       "      <td>0</td>\n",
       "      <td>0</td>\n",
       "      <td>0</td>\n",
       "      <td>...</td>\n",
       "      <td>0.06</td>\n",
       "      <td>0.00</td>\n",
       "      <td>0.00</td>\n",
       "      <td>1.00</td>\n",
       "      <td>1.00</td>\n",
       "      <td>0.00</td>\n",
       "      <td>0.00</td>\n",
       "      <td>neptune</td>\n",
       "      <td>20</td>\n",
       "      <td>1</td>\n",
       "    </tr>\n",
       "    <tr>\n",
       "      <th>125969</th>\n",
       "      <td>8</td>\n",
       "      <td>1</td>\n",
       "      <td>2</td>\n",
       "      <td>100</td>\n",
       "      <td>105</td>\n",
       "      <td>145</td>\n",
       "      <td>0</td>\n",
       "      <td>0</td>\n",
       "      <td>0</td>\n",
       "      <td>0</td>\n",
       "      <td>...</td>\n",
       "      <td>0.01</td>\n",
       "      <td>0.01</td>\n",
       "      <td>0.00</td>\n",
       "      <td>0.00</td>\n",
       "      <td>0.00</td>\n",
       "      <td>0.00</td>\n",
       "      <td>0.00</td>\n",
       "      <td>normal</td>\n",
       "      <td>21</td>\n",
       "      <td>0</td>\n",
       "    </tr>\n",
       "    <tr>\n",
       "      <th>125970</th>\n",
       "      <td>0</td>\n",
       "      <td>0</td>\n",
       "      <td>15</td>\n",
       "      <td>100</td>\n",
       "      <td>2231</td>\n",
       "      <td>384</td>\n",
       "      <td>0</td>\n",
       "      <td>0</td>\n",
       "      <td>0</td>\n",
       "      <td>0</td>\n",
       "      <td>...</td>\n",
       "      <td>0.06</td>\n",
       "      <td>0.00</td>\n",
       "      <td>0.00</td>\n",
       "      <td>0.72</td>\n",
       "      <td>0.00</td>\n",
       "      <td>0.01</td>\n",
       "      <td>0.00</td>\n",
       "      <td>normal</td>\n",
       "      <td>18</td>\n",
       "      <td>0</td>\n",
       "    </tr>\n",
       "    <tr>\n",
       "      <th>125971</th>\n",
       "      <td>0</td>\n",
       "      <td>0</td>\n",
       "      <td>35</td>\n",
       "      <td>101</td>\n",
       "      <td>0</td>\n",
       "      <td>0</td>\n",
       "      <td>0</td>\n",
       "      <td>0</td>\n",
       "      <td>0</td>\n",
       "      <td>0</td>\n",
       "      <td>...</td>\n",
       "      <td>0.05</td>\n",
       "      <td>0.00</td>\n",
       "      <td>0.00</td>\n",
       "      <td>1.00</td>\n",
       "      <td>1.00</td>\n",
       "      <td>0.00</td>\n",
       "      <td>0.00</td>\n",
       "      <td>neptune</td>\n",
       "      <td>20</td>\n",
       "      <td>1</td>\n",
       "    </tr>\n",
       "    <tr>\n",
       "      <th>125972</th>\n",
       "      <td>0</td>\n",
       "      <td>0</td>\n",
       "      <td>0</td>\n",
       "      <td>100</td>\n",
       "      <td>151</td>\n",
       "      <td>0</td>\n",
       "      <td>0</td>\n",
       "      <td>0</td>\n",
       "      <td>0</td>\n",
       "      <td>0</td>\n",
       "      <td>...</td>\n",
       "      <td>0.03</td>\n",
       "      <td>0.30</td>\n",
       "      <td>0.00</td>\n",
       "      <td>0.00</td>\n",
       "      <td>0.00</td>\n",
       "      <td>0.00</td>\n",
       "      <td>0.00</td>\n",
       "      <td>normal</td>\n",
       "      <td>21</td>\n",
       "      <td>0</td>\n",
       "    </tr>\n",
       "  </tbody>\n",
       "</table>\n",
       "<p>125973 rows × 44 columns</p>\n",
       "</div>"
      ],
      "text/plain": [
       "        duration  protocol_type  service  flag  src_bytes  dst_bytes  land  \\\n",
       "0              0              0        0   100        491          0     0   \n",
       "1              0              1        1   100        146          0     0   \n",
       "2              0              0        2   101          0          0     0   \n",
       "3              0              0        3   100        232       8153     0   \n",
       "4              0              0        3   100        199        420     0   \n",
       "...          ...            ...      ...   ...        ...        ...   ...   \n",
       "125968         0              0        2   101          0          0     0   \n",
       "125969         8              1        2   100        105        145     0   \n",
       "125970         0              0       15   100       2231        384     0   \n",
       "125971         0              0       35   101          0          0     0   \n",
       "125972         0              0        0   100        151          0     0   \n",
       "\n",
       "        wrong_fragment  urgent  hot  ...  dst_host_diff_srv_rate  \\\n",
       "0                    0       0    0  ...                    0.03   \n",
       "1                    0       0    0  ...                    0.60   \n",
       "2                    0       0    0  ...                    0.05   \n",
       "3                    0       0    0  ...                    0.00   \n",
       "4                    0       0    0  ...                    0.00   \n",
       "...                ...     ...  ...  ...                     ...   \n",
       "125968               0       0    0  ...                    0.06   \n",
       "125969               0       0    0  ...                    0.01   \n",
       "125970               0       0    0  ...                    0.06   \n",
       "125971               0       0    0  ...                    0.05   \n",
       "125972               0       0    0  ...                    0.03   \n",
       "\n",
       "        dst_host_same_src_port_rate  dst_host_srv_diff_host_rate  \\\n",
       "0                              0.17                         0.00   \n",
       "1                              0.88                         0.00   \n",
       "2                              0.00                         0.00   \n",
       "3                              0.03                         0.04   \n",
       "4                              0.00                         0.00   \n",
       "...                             ...                          ...   \n",
       "125968                         0.00                         0.00   \n",
       "125969                         0.01                         0.00   \n",
       "125970                         0.00                         0.00   \n",
       "125971                         0.00                         0.00   \n",
       "125972                         0.30                         0.00   \n",
       "\n",
       "        dst_host_serror_rate  dst_host_srv_serror_rate  dst_host_rerror_rate  \\\n",
       "0                       0.00                      0.00                  0.05   \n",
       "1                       0.00                      0.00                  0.00   \n",
       "2                       1.00                      1.00                  0.00   \n",
       "3                       0.03                      0.01                  0.00   \n",
       "4                       0.00                      0.00                  0.00   \n",
       "...                      ...                       ...                   ...   \n",
       "125968                  1.00                      1.00                  0.00   \n",
       "125969                  0.00                      0.00                  0.00   \n",
       "125970                  0.72                      0.00                  0.01   \n",
       "125971                  1.00                      1.00                  0.00   \n",
       "125972                  0.00                      0.00                  0.00   \n",
       "\n",
       "        dst_host_srv_rerror_rate  attack_category  occurance  target_label  \n",
       "0                           0.00           normal         20             0  \n",
       "1                           0.00           normal         15             0  \n",
       "2                           0.00          neptune         19             1  \n",
       "3                           0.01           normal         21             0  \n",
       "4                           0.00           normal         21             0  \n",
       "...                          ...              ...        ...           ...  \n",
       "125968                      0.00          neptune         20             1  \n",
       "125969                      0.00           normal         21             0  \n",
       "125970                      0.00           normal         18             0  \n",
       "125971                      0.00          neptune         20             1  \n",
       "125972                      0.00           normal         21             0  \n",
       "\n",
       "[125973 rows x 44 columns]"
      ]
     },
     "execution_count": 699,
     "metadata": {},
     "output_type": "execute_result"
    }
   ],
   "source": [
    "df"
   ]
  },
  {
   "cell_type": "code",
   "execution_count": null,
   "id": "b816815f",
   "metadata": {},
   "outputs": [],
   "source": []
  },
  {
   "cell_type": "code",
   "execution_count": null,
   "id": "f9f76ede",
   "metadata": {},
   "outputs": [],
   "source": []
  },
  {
   "cell_type": "markdown",
   "id": "2c857fa7",
   "metadata": {},
   "source": [
    "## Scaling Features"
   ]
  },
  {
   "cell_type": "code",
   "execution_count": 700,
   "id": "029663ff",
   "metadata": {},
   "outputs": [],
   "source": [
    "scaler = StandardScaler()\n",
    "df[['service','src_bytes','flag','dst_bytes','occurance']]=scaler.fit_transform(df[['service','src_bytes','flag','dst_bytes','occurance']])"
   ]
  },
  {
   "cell_type": "markdown",
   "id": "61fec5bb",
   "metadata": {},
   "source": [
    "# Correlation Analysis  For Feature Selection"
   ]
  },
  {
   "cell_type": "code",
   "execution_count": 701,
   "id": "c71f9635",
   "metadata": {},
   "outputs": [
    {
     "name": "stdout",
     "output_type": "stream",
     "text": [
      "target_label                   1.000000\n",
      "dst_host_srv_count             0.546923\n",
      "logged_in                      0.538431\n",
      "occurance                      0.532578\n",
      "dst_host_diff_srv_rate         0.480732\n",
      "dst_host_same_srv_rate         0.442043\n",
      "dst_host_same_src_port_rate    0.403252\n",
      "flag                           0.398071\n",
      "same_srv_rate                  0.394552\n",
      "dst_host_srv_rerror_rate       0.346545\n",
      "srv_rerror_rate                0.345624\n",
      "rerror_rate                    0.343777\n",
      "diff_srv_rate                  0.332775\n",
      "dst_host_srv_diff_host_rate    0.323976\n",
      "dst_host_rerror_rate           0.321275\n",
      "count                          0.301306\n",
      "dst_host_srv_serror_rate       0.248342\n",
      "serror_rate                    0.246354\n",
      "dst_host_serror_rate           0.245892\n",
      "protocol_type                  0.244467\n",
      "srv_serror_rate                0.243075\n",
      "duration                       0.170238\n",
      "dst_host_count                 0.121911\n",
      "service                        0.108303\n",
      "srv_diff_host_rate             0.091470\n",
      "srv_count                      0.050993\n",
      "wrong_fragment                 0.034046\n",
      "num_access_files               0.028248\n",
      "su_attempted                   0.017623\n",
      "src_bytes                      0.015669\n",
      "is_guest_login                 0.014139\n",
      "num_file_creations             0.013911\n",
      "dst_bytes                      0.010723\n",
      "num_root                       0.008983\n",
      "num_compromised                0.008114\n",
      "hot                            0.007354\n",
      "num_failed_logins              0.005182\n",
      "is_host_login                  0.002077\n",
      "root_shell                     0.001097\n",
      "land                           0.000951\n",
      "num_shells                     0.000680\n",
      "urgent                         0.000473\n",
      "num_outbound_cmds                   NaN\n",
      "Name: target_label, dtype: float64\n"
     ]
    }
   ],
   "source": [
    "correlation_matrix = df.corr()\n",
    "corr_with_target = correlation_matrix['target_label']\n",
    "\n",
    "sorted_features = corr_with_target.abs().sort_values(ascending=False)\n",
    "\n",
    "print(sorted_features)\n"
   ]
  },
  {
   "cell_type": "markdown",
   "id": "f11abf07",
   "metadata": {},
   "source": [
    "## Selecting Top 7 features"
   ]
  },
  {
   "cell_type": "code",
   "execution_count": 702,
   "id": "2cdec697",
   "metadata": {},
   "outputs": [],
   "source": [
    "features_and_target = ['dst_host_srv_count', 'logged_in', 'occurance', \n",
    "            'dst_host_diff_srv_rate' , 'dst_host_same_srv_rate' \n",
    "            ,'dst_host_same_src_port_rate','flag','target_label']"
   ]
  },
  {
   "cell_type": "markdown",
   "id": "f6ed4528",
   "metadata": {},
   "source": [
    "## Dropping unimportant features"
   ]
  },
  {
   "cell_type": "code",
   "execution_count": 703,
   "id": "d4774706",
   "metadata": {},
   "outputs": [
    {
     "data": {
      "text/html": [
       "<div>\n",
       "<style scoped>\n",
       "    .dataframe tbody tr th:only-of-type {\n",
       "        vertical-align: middle;\n",
       "    }\n",
       "\n",
       "    .dataframe tbody tr th {\n",
       "        vertical-align: top;\n",
       "    }\n",
       "\n",
       "    .dataframe thead th {\n",
       "        text-align: right;\n",
       "    }\n",
       "</style>\n",
       "<table border=\"1\" class=\"dataframe\">\n",
       "  <thead>\n",
       "    <tr style=\"text-align: right;\">\n",
       "      <th></th>\n",
       "      <th>flag</th>\n",
       "      <th>logged_in</th>\n",
       "      <th>dst_host_srv_count</th>\n",
       "      <th>dst_host_same_srv_rate</th>\n",
       "      <th>dst_host_diff_srv_rate</th>\n",
       "      <th>dst_host_same_src_port_rate</th>\n",
       "      <th>occurance</th>\n",
       "      <th>target_label</th>\n",
       "    </tr>\n",
       "  </thead>\n",
       "  <tbody>\n",
       "    <tr>\n",
       "      <th>0</th>\n",
       "      <td>-0.606907</td>\n",
       "      <td>0</td>\n",
       "      <td>25</td>\n",
       "      <td>0.17</td>\n",
       "      <td>0.03</td>\n",
       "      <td>0.17</td>\n",
       "      <td>0.216426</td>\n",
       "      <td>0</td>\n",
       "    </tr>\n",
       "    <tr>\n",
       "      <th>1</th>\n",
       "      <td>-0.606907</td>\n",
       "      <td>0</td>\n",
       "      <td>1</td>\n",
       "      <td>0.00</td>\n",
       "      <td>0.60</td>\n",
       "      <td>0.88</td>\n",
       "      <td>-1.965556</td>\n",
       "      <td>0</td>\n",
       "    </tr>\n",
       "    <tr>\n",
       "      <th>2</th>\n",
       "      <td>0.368519</td>\n",
       "      <td>0</td>\n",
       "      <td>26</td>\n",
       "      <td>0.10</td>\n",
       "      <td>0.05</td>\n",
       "      <td>0.00</td>\n",
       "      <td>-0.219970</td>\n",
       "      <td>1</td>\n",
       "    </tr>\n",
       "    <tr>\n",
       "      <th>3</th>\n",
       "      <td>-0.606907</td>\n",
       "      <td>1</td>\n",
       "      <td>255</td>\n",
       "      <td>1.00</td>\n",
       "      <td>0.00</td>\n",
       "      <td>0.03</td>\n",
       "      <td>0.652823</td>\n",
       "      <td>0</td>\n",
       "    </tr>\n",
       "    <tr>\n",
       "      <th>4</th>\n",
       "      <td>-0.606907</td>\n",
       "      <td>1</td>\n",
       "      <td>255</td>\n",
       "      <td>1.00</td>\n",
       "      <td>0.00</td>\n",
       "      <td>0.00</td>\n",
       "      <td>0.652823</td>\n",
       "      <td>0</td>\n",
       "    </tr>\n",
       "    <tr>\n",
       "      <th>...</th>\n",
       "      <td>...</td>\n",
       "      <td>...</td>\n",
       "      <td>...</td>\n",
       "      <td>...</td>\n",
       "      <td>...</td>\n",
       "      <td>...</td>\n",
       "      <td>...</td>\n",
       "      <td>...</td>\n",
       "    </tr>\n",
       "    <tr>\n",
       "      <th>125968</th>\n",
       "      <td>0.368519</td>\n",
       "      <td>0</td>\n",
       "      <td>25</td>\n",
       "      <td>0.10</td>\n",
       "      <td>0.06</td>\n",
       "      <td>0.00</td>\n",
       "      <td>0.216426</td>\n",
       "      <td>1</td>\n",
       "    </tr>\n",
       "    <tr>\n",
       "      <th>125969</th>\n",
       "      <td>-0.606907</td>\n",
       "      <td>0</td>\n",
       "      <td>244</td>\n",
       "      <td>0.96</td>\n",
       "      <td>0.01</td>\n",
       "      <td>0.01</td>\n",
       "      <td>0.652823</td>\n",
       "      <td>0</td>\n",
       "    </tr>\n",
       "    <tr>\n",
       "      <th>125970</th>\n",
       "      <td>-0.606907</td>\n",
       "      <td>1</td>\n",
       "      <td>30</td>\n",
       "      <td>0.12</td>\n",
       "      <td>0.06</td>\n",
       "      <td>0.00</td>\n",
       "      <td>-0.656367</td>\n",
       "      <td>0</td>\n",
       "    </tr>\n",
       "    <tr>\n",
       "      <th>125971</th>\n",
       "      <td>0.368519</td>\n",
       "      <td>0</td>\n",
       "      <td>8</td>\n",
       "      <td>0.03</td>\n",
       "      <td>0.05</td>\n",
       "      <td>0.00</td>\n",
       "      <td>0.216426</td>\n",
       "      <td>1</td>\n",
       "    </tr>\n",
       "    <tr>\n",
       "      <th>125972</th>\n",
       "      <td>-0.606907</td>\n",
       "      <td>1</td>\n",
       "      <td>77</td>\n",
       "      <td>0.30</td>\n",
       "      <td>0.03</td>\n",
       "      <td>0.30</td>\n",
       "      <td>0.652823</td>\n",
       "      <td>0</td>\n",
       "    </tr>\n",
       "  </tbody>\n",
       "</table>\n",
       "<p>125973 rows × 8 columns</p>\n",
       "</div>"
      ],
      "text/plain": [
       "            flag  logged_in  dst_host_srv_count  dst_host_same_srv_rate  \\\n",
       "0      -0.606907          0                  25                    0.17   \n",
       "1      -0.606907          0                   1                    0.00   \n",
       "2       0.368519          0                  26                    0.10   \n",
       "3      -0.606907          1                 255                    1.00   \n",
       "4      -0.606907          1                 255                    1.00   \n",
       "...          ...        ...                 ...                     ...   \n",
       "125968  0.368519          0                  25                    0.10   \n",
       "125969 -0.606907          0                 244                    0.96   \n",
       "125970 -0.606907          1                  30                    0.12   \n",
       "125971  0.368519          0                   8                    0.03   \n",
       "125972 -0.606907          1                  77                    0.30   \n",
       "\n",
       "        dst_host_diff_srv_rate  dst_host_same_src_port_rate  occurance  \\\n",
       "0                         0.03                         0.17   0.216426   \n",
       "1                         0.60                         0.88  -1.965556   \n",
       "2                         0.05                         0.00  -0.219970   \n",
       "3                         0.00                         0.03   0.652823   \n",
       "4                         0.00                         0.00   0.652823   \n",
       "...                        ...                          ...        ...   \n",
       "125968                    0.06                         0.00   0.216426   \n",
       "125969                    0.01                         0.01   0.652823   \n",
       "125970                    0.06                         0.00  -0.656367   \n",
       "125971                    0.05                         0.00   0.216426   \n",
       "125972                    0.03                         0.30   0.652823   \n",
       "\n",
       "        target_label  \n",
       "0                  0  \n",
       "1                  0  \n",
       "2                  1  \n",
       "3                  0  \n",
       "4                  0  \n",
       "...              ...  \n",
       "125968             1  \n",
       "125969             0  \n",
       "125970             0  \n",
       "125971             1  \n",
       "125972             0  \n",
       "\n",
       "[125973 rows x 8 columns]"
      ]
     },
     "execution_count": 703,
     "metadata": {},
     "output_type": "execute_result"
    }
   ],
   "source": [
    "df = df.drop(columns=[col for col in df.columns if col not in features_and_target])\n",
    "\n",
    "df"
   ]
  },
  {
   "cell_type": "code",
   "execution_count": 704,
   "id": "44d80ff9",
   "metadata": {},
   "outputs": [],
   "source": [
    "features = ['dst_host_srv_count', 'logged_in', 'occurance', \n",
    "            'dst_host_diff_srv_rate' , 'dst_host_same_srv_rate' \n",
    "            ,'dst_host_same_src_port_rate','flag']  # separating features from target"
   ]
  },
  {
   "cell_type": "code",
   "execution_count": 705,
   "id": "307b7177",
   "metadata": {},
   "outputs": [
    {
     "data": {
      "text/html": [
       "<div>\n",
       "<style scoped>\n",
       "    .dataframe tbody tr th:only-of-type {\n",
       "        vertical-align: middle;\n",
       "    }\n",
       "\n",
       "    .dataframe tbody tr th {\n",
       "        vertical-align: top;\n",
       "    }\n",
       "\n",
       "    .dataframe thead th {\n",
       "        text-align: right;\n",
       "    }\n",
       "</style>\n",
       "<table border=\"1\" class=\"dataframe\">\n",
       "  <thead>\n",
       "    <tr style=\"text-align: right;\">\n",
       "      <th></th>\n",
       "      <th>flag</th>\n",
       "      <th>logged_in</th>\n",
       "      <th>dst_host_srv_count</th>\n",
       "      <th>dst_host_same_srv_rate</th>\n",
       "      <th>dst_host_diff_srv_rate</th>\n",
       "      <th>dst_host_same_src_port_rate</th>\n",
       "      <th>occurance</th>\n",
       "      <th>target_label</th>\n",
       "    </tr>\n",
       "  </thead>\n",
       "  <tbody>\n",
       "    <tr>\n",
       "      <th>0</th>\n",
       "      <td>-0.606907</td>\n",
       "      <td>0</td>\n",
       "      <td>25</td>\n",
       "      <td>0.17</td>\n",
       "      <td>0.03</td>\n",
       "      <td>0.17</td>\n",
       "      <td>0.216426</td>\n",
       "      <td>0</td>\n",
       "    </tr>\n",
       "    <tr>\n",
       "      <th>1</th>\n",
       "      <td>-0.606907</td>\n",
       "      <td>0</td>\n",
       "      <td>1</td>\n",
       "      <td>0.00</td>\n",
       "      <td>0.60</td>\n",
       "      <td>0.88</td>\n",
       "      <td>-1.965556</td>\n",
       "      <td>0</td>\n",
       "    </tr>\n",
       "    <tr>\n",
       "      <th>2</th>\n",
       "      <td>0.368519</td>\n",
       "      <td>0</td>\n",
       "      <td>26</td>\n",
       "      <td>0.10</td>\n",
       "      <td>0.05</td>\n",
       "      <td>0.00</td>\n",
       "      <td>-0.219970</td>\n",
       "      <td>1</td>\n",
       "    </tr>\n",
       "    <tr>\n",
       "      <th>3</th>\n",
       "      <td>-0.606907</td>\n",
       "      <td>1</td>\n",
       "      <td>255</td>\n",
       "      <td>1.00</td>\n",
       "      <td>0.00</td>\n",
       "      <td>0.03</td>\n",
       "      <td>0.652823</td>\n",
       "      <td>0</td>\n",
       "    </tr>\n",
       "    <tr>\n",
       "      <th>4</th>\n",
       "      <td>-0.606907</td>\n",
       "      <td>1</td>\n",
       "      <td>255</td>\n",
       "      <td>1.00</td>\n",
       "      <td>0.00</td>\n",
       "      <td>0.00</td>\n",
       "      <td>0.652823</td>\n",
       "      <td>0</td>\n",
       "    </tr>\n",
       "    <tr>\n",
       "      <th>...</th>\n",
       "      <td>...</td>\n",
       "      <td>...</td>\n",
       "      <td>...</td>\n",
       "      <td>...</td>\n",
       "      <td>...</td>\n",
       "      <td>...</td>\n",
       "      <td>...</td>\n",
       "      <td>...</td>\n",
       "    </tr>\n",
       "    <tr>\n",
       "      <th>125968</th>\n",
       "      <td>0.368519</td>\n",
       "      <td>0</td>\n",
       "      <td>25</td>\n",
       "      <td>0.10</td>\n",
       "      <td>0.06</td>\n",
       "      <td>0.00</td>\n",
       "      <td>0.216426</td>\n",
       "      <td>1</td>\n",
       "    </tr>\n",
       "    <tr>\n",
       "      <th>125969</th>\n",
       "      <td>-0.606907</td>\n",
       "      <td>0</td>\n",
       "      <td>244</td>\n",
       "      <td>0.96</td>\n",
       "      <td>0.01</td>\n",
       "      <td>0.01</td>\n",
       "      <td>0.652823</td>\n",
       "      <td>0</td>\n",
       "    </tr>\n",
       "    <tr>\n",
       "      <th>125970</th>\n",
       "      <td>-0.606907</td>\n",
       "      <td>1</td>\n",
       "      <td>30</td>\n",
       "      <td>0.12</td>\n",
       "      <td>0.06</td>\n",
       "      <td>0.00</td>\n",
       "      <td>-0.656367</td>\n",
       "      <td>0</td>\n",
       "    </tr>\n",
       "    <tr>\n",
       "      <th>125971</th>\n",
       "      <td>0.368519</td>\n",
       "      <td>0</td>\n",
       "      <td>8</td>\n",
       "      <td>0.03</td>\n",
       "      <td>0.05</td>\n",
       "      <td>0.00</td>\n",
       "      <td>0.216426</td>\n",
       "      <td>1</td>\n",
       "    </tr>\n",
       "    <tr>\n",
       "      <th>125972</th>\n",
       "      <td>-0.606907</td>\n",
       "      <td>1</td>\n",
       "      <td>77</td>\n",
       "      <td>0.30</td>\n",
       "      <td>0.03</td>\n",
       "      <td>0.30</td>\n",
       "      <td>0.652823</td>\n",
       "      <td>0</td>\n",
       "    </tr>\n",
       "  </tbody>\n",
       "</table>\n",
       "<p>125973 rows × 8 columns</p>\n",
       "</div>"
      ],
      "text/plain": [
       "            flag  logged_in  dst_host_srv_count  dst_host_same_srv_rate  \\\n",
       "0      -0.606907          0                  25                    0.17   \n",
       "1      -0.606907          0                   1                    0.00   \n",
       "2       0.368519          0                  26                    0.10   \n",
       "3      -0.606907          1                 255                    1.00   \n",
       "4      -0.606907          1                 255                    1.00   \n",
       "...          ...        ...                 ...                     ...   \n",
       "125968  0.368519          0                  25                    0.10   \n",
       "125969 -0.606907          0                 244                    0.96   \n",
       "125970 -0.606907          1                  30                    0.12   \n",
       "125971  0.368519          0                   8                    0.03   \n",
       "125972 -0.606907          1                  77                    0.30   \n",
       "\n",
       "        dst_host_diff_srv_rate  dst_host_same_src_port_rate  occurance  \\\n",
       "0                         0.03                         0.17   0.216426   \n",
       "1                         0.60                         0.88  -1.965556   \n",
       "2                         0.05                         0.00  -0.219970   \n",
       "3                         0.00                         0.03   0.652823   \n",
       "4                         0.00                         0.00   0.652823   \n",
       "...                        ...                          ...        ...   \n",
       "125968                    0.06                         0.00   0.216426   \n",
       "125969                    0.01                         0.01   0.652823   \n",
       "125970                    0.06                         0.00  -0.656367   \n",
       "125971                    0.05                         0.00   0.216426   \n",
       "125972                    0.03                         0.30   0.652823   \n",
       "\n",
       "        target_label  \n",
       "0                  0  \n",
       "1                  0  \n",
       "2                  1  \n",
       "3                  0  \n",
       "4                  0  \n",
       "...              ...  \n",
       "125968             1  \n",
       "125969             0  \n",
       "125970             0  \n",
       "125971             1  \n",
       "125972             0  \n",
       "\n",
       "[125973 rows x 8 columns]"
      ]
     },
     "execution_count": 705,
     "metadata": {},
     "output_type": "execute_result"
    }
   ],
   "source": [
    "df"
   ]
  },
  {
   "cell_type": "markdown",
   "id": "cb7f500c",
   "metadata": {},
   "source": [
    "# Splitting Data"
   ]
  },
  {
   "cell_type": "code",
   "execution_count": null,
   "id": "a2b56662",
   "metadata": {},
   "outputs": [],
   "source": []
  },
  {
   "cell_type": "code",
   "execution_count": 706,
   "id": "7aa9c892",
   "metadata": {},
   "outputs": [],
   "source": [
    "X = df[features]  # features / attributes\n",
    "y = df['target_label']   # target label\n",
    "X_train, X_test, y_train, y_test = train_test_split(X, y, test_size=0.3, random_state=10)   # splitting on data 70/30 ratio"
   ]
  },
  {
   "cell_type": "markdown",
   "id": "5016561f",
   "metadata": {},
   "source": [
    "# Decision Tree"
   ]
  },
  {
   "cell_type": "code",
   "execution_count": 707,
   "id": "9e7020d2",
   "metadata": {},
   "outputs": [],
   "source": [
    "Decision_tree_classifier = DecisionTreeClassifier(criterion = 'entropy' ,max_depth = 4 , random_state = 10 )"
   ]
  },
  {
   "cell_type": "code",
   "execution_count": 708,
   "id": "994371bd",
   "metadata": {},
   "outputs": [
    {
     "data": {
      "text/plain": [
       "DecisionTreeClassifier(criterion='entropy', max_depth=4, random_state=10)"
      ]
     },
     "execution_count": 708,
     "metadata": {},
     "output_type": "execute_result"
    }
   ],
   "source": [
    "Decision_tree_classifier.fit(X_train , y_train)"
   ]
  },
  {
   "cell_type": "code",
   "execution_count": 709,
   "id": "054ce12f",
   "metadata": {},
   "outputs": [],
   "source": [
    "dct_prediction = Decision_tree_classifier.predict(X_test)"
   ]
  },
  {
   "cell_type": "code",
   "execution_count": 710,
   "id": "8b69711c",
   "metadata": {},
   "outputs": [
    {
     "data": {
      "image/png": "[encoded data removed]",
      "text/plain": [
       "<Figure size 1080x1080 with 1 Axes>"
      ]
     },
     "metadata": {},
     "output_type": "display_data"
    }
   ],
   "source": [
    "#decision Tree for entropy\n",
    "plt.figure(figsize=(15, 15))\n",
    "\n",
    "DTC_tree = tree.plot_tree(Decision_tree_classifier, filled=True, \n",
    "                          feature_names=features,\n",
    "                          fontsize=10, )"
   ]
  },
  {
   "cell_type": "code",
   "execution_count": null,
   "id": "bfab1826",
   "metadata": {},
   "outputs": [],
   "source": []
  },
  {
   "cell_type": "markdown",
   "id": "249eae74",
   "metadata": {},
   "source": [
    "## Metrics Score (Decision Tree)"
   ]
  },
  {
   "cell_type": "code",
   "execution_count": 711,
   "id": "87a20375",
   "metadata": {},
   "outputs": [
    {
     "name": "stdout",
     "output_type": "stream",
     "text": [
      "Accuracy score:  0.9400137595258256\n",
      "F1 score:  0.9406491114246106\n",
      "Recall Score:  0.9400137595258256\n",
      "Precision score:  0.9425587802646751\n"
     ]
    }
   ],
   "source": [
    "Accuracy = accuracy_score(y_test, dct_prediction)\n",
    "F1_score = f1_score(y_test, dct_prediction,average = 'weighted')\n",
    "Recall_score = recall_score(y_test, dct_prediction,average = 'weighted')\n",
    "Precision_score = precision_score(y_test, dct_prediction, average = 'weighted')\n",
    "\n",
    "print(\"Accuracy score: \", Accuracy )\n",
    "print(\"F1 score: \",F1_score)\n",
    "print(\"Recall Score: \",Recall_score)\n",
    "print(\"Precision score: \",Precision_score)"
   ]
  },
  {
   "cell_type": "code",
   "execution_count": 712,
   "id": "a95423b7",
   "metadata": {},
   "outputs": [
    {
     "data": {
      "image/png": "[encoded data removed]",
      "text/plain": [
       "<Figure size 432x288 with 1 Axes>"
      ]
     },
     "metadata": {},
     "output_type": "display_data"
    }
   ],
   "source": [
    "metric_names = ['Accuracy', 'F1 Score', 'Recall', 'Precision']\n",
    "metric_scores = [Accuracy,F1_score,Recall_score, Precision_score]\n",
    "\n",
    "# Create a bar graph\n",
    "plt.plot(metric_names, metric_scores , marker = 'o')\n",
    "\n",
    "# Set the title and axis labels\n",
    "plt.title('Performace Graph of Decision Tree')\n",
    "plt.xlabel('Metric')\n",
    "plt.ylabel('Score')\n",
    "\n",
    "# Display the graph\n",
    "plt.show()"
   ]
  },
  {
   "cell_type": "markdown",
   "id": "82da2a1b",
   "metadata": {},
   "source": [
    "# K-Nearest Neighbour (KNN)"
   ]
  },
  {
   "cell_type": "code",
   "execution_count": 713,
   "id": "5934c7e2",
   "metadata": {},
   "outputs": [],
   "source": [
    "X = df[features]  # features / attributes\n",
    "y = df['target_label']   # target label\n",
    "X_train, X_test, y_train, y_test = train_test_split(X, y, test_size=0.3, random_state=0)   # splitting on data 70/30 ratio"
   ]
  },
  {
   "cell_type": "code",
   "execution_count": 714,
   "id": "3613dac7",
   "metadata": {},
   "outputs": [],
   "source": [
    "KNN = KNeighborsClassifier(n_neighbors=5)"
   ]
  },
  {
   "cell_type": "code",
   "execution_count": 715,
   "id": "0b5c9127",
   "metadata": {},
   "outputs": [
    {
     "data": {
      "text/plain": [
       "KNeighborsClassifier()"
      ]
     },
     "execution_count": 715,
     "metadata": {},
     "output_type": "execute_result"
    }
   ],
   "source": [
    "KNN.fit(X_train , y_train)"
   ]
  },
  {
   "cell_type": "code",
   "execution_count": 716,
   "id": "5e627f82",
   "metadata": {},
   "outputs": [],
   "source": [
    "knn_prediction = KNN.predict(X_test)"
   ]
  },
  {
   "cell_type": "code",
   "execution_count": 717,
   "id": "3abd7cd6",
   "metadata": {},
   "outputs": [
    {
     "name": "stdout",
     "output_type": "stream",
     "text": [
      "Accuracy: 0.9671094411515665\n"
     ]
    }
   ],
   "source": [
    "accuracy = accuracy_score(y_test, knn_prediction)\n",
    "print(\"Accuracy:\", accuracy)"
   ]
  },
  {
   "cell_type": "markdown",
   "id": "eb61ff6e",
   "metadata": {},
   "source": [
    "## Searching for optimal value"
   ]
  },
  {
   "cell_type": "code",
   "execution_count": 718,
   "id": "7e4dcf24",
   "metadata": {},
   "outputs": [
    {
     "name": "stdout",
     "output_type": "stream",
     "text": [
      "Accuracy at k =  1   0.9730366215071973\n",
      "Accuracy at k =  2   0.968088484335309\n",
      "Accuracy at k =  3   0.9698613463166808\n",
      "Accuracy at k =  4   0.9684060118543607\n",
      "Accuracy at k =  5   0.9671094411515665\n",
      "Accuracy at k =  6   0.9658657917019475\n",
      "Accuracy at k =  7   0.9642516934801016\n",
      "Accuracy at k =  8   0.9634314140558848\n",
      "Accuracy at k =  9   0.9631403471634208\n",
      "Accuracy at k =  10   0.9624259102455546\n"
     ]
    }
   ],
   "source": [
    "accuracies = []\n",
    "k_values = []\n",
    "for i in range(1,11):\n",
    "    KNN = KNeighborsClassifier(n_neighbors=i)\n",
    "    KNN.fit(X_train , y_train)\n",
    "    knn_prediction = KNN.predict(X_test)\n",
    "    \n",
    "\n",
    "    #Accuracy\n",
    "    accuracy = accuracy_score(y_test, knn_prediction)\n",
    "    accuracies.append(accuracy)\n",
    "    k_values.append(i)\n",
    "    print(\"Accuracy at k = \",i,\" \", accuracy)"
   ]
  },
  {
   "cell_type": "code",
   "execution_count": 719,
   "id": "e3aa4ae6",
   "metadata": {},
   "outputs": [
    {
     "data": {
      "text/plain": [
       "Text(0.5, 1.0, 'Accuracy vs. k Value')"
      ]
     },
     "execution_count": 719,
     "metadata": {},
     "output_type": "execute_result"
    },
    {
     "data": {
      "image/png": "[encoded data removed]",
      "text/plain": [
       "<Figure size 432x288 with 1 Axes>"
      ]
     },
     "metadata": {},
     "output_type": "display_data"
    }
   ],
   "source": [
    "plt.plot(k_values, accuracies, marker='o')\n",
    "plt.xlabel('k')\n",
    "plt.ylabel('Accuracy')\n",
    "plt.title('Accuracy vs. k Value')\n"
   ]
  },
  {
   "cell_type": "code",
   "execution_count": 720,
   "id": "244c6de0",
   "metadata": {},
   "outputs": [
    {
     "name": "stdout",
     "output_type": "stream",
     "text": [
      "Accuracy at k =  3   0.9698613463166808\n"
     ]
    }
   ],
   "source": [
    "KNN = KNeighborsClassifier(n_neighbors=3)\n",
    "KNN.fit(X_train , y_train)\n",
    "knn_prediction = KNN.predict(X_test)\n",
    "\n",
    "    #Accuracy\n",
    "accuracy = accuracy_score(y_test, knn_prediction)\n",
    "print(\"Accuracy at k = \",3,\" \", accuracy)"
   ]
  },
  {
   "cell_type": "markdown",
   "id": "c2f04a4d",
   "metadata": {},
   "source": [
    "Note:Setting k to 1 can result in overfitting to the training data and make the model more susceptible to noise and outliers in the data. Increasing the value of k can improve the generalization ability of the model, but it may also result in a higher bias and lower model complexity"
   ]
  },
  {
   "cell_type": "markdown",
   "id": "11a0eb1c",
   "metadata": {},
   "source": [
    "## Metrics Scores (KNN)"
   ]
  },
  {
   "cell_type": "code",
   "execution_count": 721,
   "id": "b0e9fd16",
   "metadata": {},
   "outputs": [
    {
     "name": "stdout",
     "output_type": "stream",
     "text": [
      "Accuracy score:  0.9698613463166808\n",
      "F1 score:  0.9697187634971518\n",
      "Recall Score:  0.9698613463166808\n",
      "Precision score:  0.9697594826259062\n"
     ]
    }
   ],
   "source": [
    "Accuracy = accuracy_score(y_test, knn_prediction)\n",
    "F1_score = f1_score(y_test, knn_prediction,average = 'weighted')\n",
    "Recall_score = recall_score(y_test, knn_prediction,average = 'weighted')\n",
    "Precision_score = precision_score(y_test, knn_prediction, average = 'weighted')\n",
    "\n",
    "print(\"Accuracy score: \", Accuracy )\n",
    "print(\"F1 score: \",F1_score)\n",
    "print(\"Recall Score: \",Recall_score)\n",
    "print(\"Precision score: \",Precision_score)"
   ]
  },
  {
   "cell_type": "code",
   "execution_count": 722,
   "id": "91993088",
   "metadata": {},
   "outputs": [
    {
     "data": {
      "image/png": "[encoded data removed]",
      "text/plain": [
       "<Figure size 432x288 with 1 Axes>"
      ]
     },
     "metadata": {},
     "output_type": "display_data"
    }
   ],
   "source": [
    "metric_names = ['Accuracy', 'F1 Score', 'Recall', 'Precision']\n",
    "metric_scores = [Accuracy,F1_score,Recall_score, Precision_score]\n",
    "\n",
    "plt.plot(metric_names, metric_scores , marker = 'o')\n",
    "\n",
    "# Set the title and axis labels\n",
    "plt.title('Performance Metrics')\n",
    "plt.xlabel('Metric')\n",
    "plt.ylabel('Score (Normalized)')\n",
    "\n",
    "\n",
    "\n",
    "# Display the graph\n",
    "plt.show()\n"
   ]
  },
  {
   "cell_type": "markdown",
   "id": "be2d0aa4",
   "metadata": {},
   "source": []
  },
  {
   "cell_type": "markdown",
   "id": "28ddeead",
   "metadata": {},
   "source": [
    "# ANN (Multilayer Perceptron)"
   ]
  },
  {
   "cell_type": "code",
   "execution_count": 723,
   "id": "1947d12c",
   "metadata": {},
   "outputs": [],
   "source": [
    "X = df[features]  # features / attributes\n",
    "y = df['target_label']   # target label\n",
    "X_train, X_test, y_train, y_test = train_test_split(X, y, test_size=0.3, random_state=1)   # splitting on data 70/30 ratio"
   ]
  },
  {
   "cell_type": "code",
   "execution_count": 724,
   "id": "dfd44194",
   "metadata": {},
   "outputs": [],
   "source": [
    "Multilayer_perceptron = MLPClassifier(solver='lbfgs' ,alpha = 1e-5, hidden_layer_sizes = (5,3,3) , random_state = 10)"
   ]
  },
  {
   "cell_type": "code",
   "execution_count": 725,
   "id": "0fde49ea",
   "metadata": {},
   "outputs": [
    {
     "data": {
      "text/plain": [
       "MLPClassifier(alpha=1e-05, hidden_layer_sizes=(5, 3, 3), random_state=10,\n",
       "              solver='lbfgs')"
      ]
     },
     "execution_count": 725,
     "metadata": {},
     "output_type": "execute_result"
    }
   ],
   "source": [
    "Multilayer_perceptron.fit(X_train , y_train)"
   ]
  },
  {
   "cell_type": "code",
   "execution_count": 726,
   "id": "03879b33",
   "metadata": {},
   "outputs": [],
   "source": [
    "mlp_prediction =  Multilayer_perceptron.predict(X_test)"
   ]
  },
  {
   "cell_type": "markdown",
   "id": "7424e78a",
   "metadata": {},
   "source": [
    "## Metric Scores(MLP Classifier)"
   ]
  },
  {
   "cell_type": "code",
   "execution_count": 727,
   "id": "6cafdcc7",
   "metadata": {},
   "outputs": [
    {
     "name": "stdout",
     "output_type": "stream",
     "text": [
      "Accuracy score:  0.9154847586790855\n",
      "F1 score:  0.9120403925019586\n",
      "Recall Score:  0.9154847586790855\n",
      "Precision score:  0.9116028961209518\n"
     ]
    }
   ],
   "source": [
    "Accuracy = accuracy_score(y_test, mlp_prediction)\n",
    "F1_score = f1_score(y_test, mlp_prediction,average = 'weighted')\n",
    "Recall_score = recall_score(y_test, mlp_prediction,average = 'weighted')\n",
    "Precision_score = precision_score(y_test, mlp_prediction, average = 'weighted')\n",
    "\n",
    "print(\"Accuracy score: \", Accuracy )\n",
    "print(\"F1 score: \",F1_score)\n",
    "print(\"Recall Score: \",Recall_score)\n",
    "print(\"Precision score: \",Precision_score)"
   ]
  },
  {
   "cell_type": "code",
   "execution_count": 728,
   "id": "c7a11797",
   "metadata": {},
   "outputs": [
    {
     "data": {
      "image/png": "[encoded data removed]",
      "text/plain": [
       "<Figure size 432x288 with 1 Axes>"
      ]
     },
     "metadata": {},
     "output_type": "display_data"
    }
   ],
   "source": [
    "metric_names = ['Accuracy', 'F1 Score', 'Recall', 'Precision']\n",
    "metric_scores = [Accuracy,F1_score,Recall_score, Precision_score]\n",
    "\n",
    "# Create a bar graph\n",
    "plt.plot(metric_names, metric_scores , marker = 'o')\n",
    "\n",
    "# Set the title and axis labels\n",
    "plt.title('Performace Graph Before Fine Tuning')\n",
    "plt.xlabel('Metric')\n",
    "plt.ylabel('Score')\n",
    "\n",
    "# Display the graph\n",
    "plt.show()"
   ]
  },
  {
   "cell_type": "markdown",
   "id": "85429991",
   "metadata": {},
   "source": [
    "# Fine Tuning"
   ]
  },
  {
   "cell_type": "code",
   "execution_count": 729,
   "id": "19ec4835",
   "metadata": {},
   "outputs": [],
   "source": [
    "Multilayer_perceptron = MLPClassifier(solver='adam' ,alpha = 1e-5, hidden_layer_sizes = (4,4,6) , random_state = 1)"
   ]
  },
  {
   "cell_type": "code",
   "execution_count": 730,
   "id": "feff80dd",
   "metadata": {},
   "outputs": [
    {
     "data": {
      "text/plain": [
       "MLPClassifier(alpha=1e-05, hidden_layer_sizes=(4, 4, 6), random_state=1)"
      ]
     },
     "execution_count": 730,
     "metadata": {},
     "output_type": "execute_result"
    }
   ],
   "source": [
    "Multilayer_perceptron.fit(X_train , y_train)"
   ]
  },
  {
   "cell_type": "code",
   "execution_count": 731,
   "id": "cf010046",
   "metadata": {},
   "outputs": [],
   "source": [
    "mlp_prediction =  Multilayer_perceptron.predict(X_test)"
   ]
  },
  {
   "cell_type": "code",
   "execution_count": null,
   "id": "ad795f94",
   "metadata": {},
   "outputs": [],
   "source": []
  },
  {
   "cell_type": "markdown",
   "id": "3383b6c9",
   "metadata": {},
   "source": [
    "## Metric Scores(After Tuning)"
   ]
  },
  {
   "cell_type": "code",
   "execution_count": 732,
   "id": "333b7ab6",
   "metadata": {},
   "outputs": [
    {
     "name": "stdout",
     "output_type": "stream",
     "text": [
      "Accuracy score:  0.9583245131244708\n",
      "F1 score:  0.9581890827029542\n",
      "Recall Score:  0.9583245131244708\n",
      "Precision score:  0.9580755478271874\n"
     ]
    }
   ],
   "source": [
    "Accuracy = accuracy_score(y_test, mlp_prediction)\n",
    "F1_score = f1_score(y_test, mlp_prediction,average = 'weighted')\n",
    "Recall_score = recall_score(y_test, mlp_prediction,average = 'weighted')\n",
    "Precision_score = precision_score(y_test, mlp_prediction, average = 'weighted')\n",
    "\n",
    "print(\"Accuracy score: \", Accuracy )\n",
    "print(\"F1 score: \",F1_score)\n",
    "print(\"Recall Score: \",Recall_score)\n",
    "print(\"Precision score: \",Precision_score)"
   ]
  },
  {
   "cell_type": "code",
   "execution_count": 733,
   "id": "d19c9429",
   "metadata": {},
   "outputs": [
    {
     "data": {
      "image/png": "[encoded data removed]",
      "text/plain": [
       "<Figure size 432x288 with 1 Axes>"
      ]
     },
     "metadata": {},
     "output_type": "display_data"
    }
   ],
   "source": [
    "metric_names = ['Accuracy', 'F1 Score', 'Recall', 'Precision']\n",
    "metric_scores = [Accuracy,F1_score,Recall_score, Precision_score]\n",
    "\n",
    "# Create a bar graph\n",
    "plt.plot(metric_names, metric_scores , marker = 'o')\n",
    "\n",
    "# Set the title and axis labels\n",
    "plt.title('Performace Graph After Tuning')\n",
    "plt.xlabel('Metric')\n",
    "plt.ylabel('Score')\n",
    "\n",
    "# Display the graph\n",
    "plt.show()\n",
    "\n",
    "\n",
    "\n"
   ]
  },
  {
   "cell_type": "markdown",
   "id": "b41ac691",
   "metadata": {},
   "source": [
    "## K-Means Clustering"
   ]
  },
  {
   "cell_type": "code",
   "execution_count": 734,
   "id": "113906cf",
   "metadata": {},
   "outputs": [],
   "source": [
    "df1 = df.drop(columns='target_label') # dropping the target label"
   ]
  },
  {
   "cell_type": "code",
   "execution_count": 735,
   "id": "1c10b89a",
   "metadata": {},
   "outputs": [
    {
     "data": {
      "text/html": [
       "<div>\n",
       "<style scoped>\n",
       "    .dataframe tbody tr th:only-of-type {\n",
       "        vertical-align: middle;\n",
       "    }\n",
       "\n",
       "    .dataframe tbody tr th {\n",
       "        vertical-align: top;\n",
       "    }\n",
       "\n",
       "    .dataframe thead th {\n",
       "        text-align: right;\n",
       "    }\n",
       "</style>\n",
       "<table border=\"1\" class=\"dataframe\">\n",
       "  <thead>\n",
       "    <tr style=\"text-align: right;\">\n",
       "      <th></th>\n",
       "      <th>flag</th>\n",
       "      <th>logged_in</th>\n",
       "      <th>dst_host_srv_count</th>\n",
       "      <th>dst_host_same_srv_rate</th>\n",
       "      <th>dst_host_diff_srv_rate</th>\n",
       "      <th>dst_host_same_src_port_rate</th>\n",
       "      <th>occurance</th>\n",
       "    </tr>\n",
       "  </thead>\n",
       "  <tbody>\n",
       "    <tr>\n",
       "      <th>0</th>\n",
       "      <td>-0.606907</td>\n",
       "      <td>0</td>\n",
       "      <td>25</td>\n",
       "      <td>0.17</td>\n",
       "      <td>0.03</td>\n",
       "      <td>0.17</td>\n",
       "      <td>0.216426</td>\n",
       "    </tr>\n",
       "    <tr>\n",
       "      <th>1</th>\n",
       "      <td>-0.606907</td>\n",
       "      <td>0</td>\n",
       "      <td>1</td>\n",
       "      <td>0.00</td>\n",
       "      <td>0.60</td>\n",
       "      <td>0.88</td>\n",
       "      <td>-1.965556</td>\n",
       "    </tr>\n",
       "    <tr>\n",
       "      <th>2</th>\n",
       "      <td>0.368519</td>\n",
       "      <td>0</td>\n",
       "      <td>26</td>\n",
       "      <td>0.10</td>\n",
       "      <td>0.05</td>\n",
       "      <td>0.00</td>\n",
       "      <td>-0.219970</td>\n",
       "    </tr>\n",
       "    <tr>\n",
       "      <th>3</th>\n",
       "      <td>-0.606907</td>\n",
       "      <td>1</td>\n",
       "      <td>255</td>\n",
       "      <td>1.00</td>\n",
       "      <td>0.00</td>\n",
       "      <td>0.03</td>\n",
       "      <td>0.652823</td>\n",
       "    </tr>\n",
       "    <tr>\n",
       "      <th>4</th>\n",
       "      <td>-0.606907</td>\n",
       "      <td>1</td>\n",
       "      <td>255</td>\n",
       "      <td>1.00</td>\n",
       "      <td>0.00</td>\n",
       "      <td>0.00</td>\n",
       "      <td>0.652823</td>\n",
       "    </tr>\n",
       "    <tr>\n",
       "      <th>...</th>\n",
       "      <td>...</td>\n",
       "      <td>...</td>\n",
       "      <td>...</td>\n",
       "      <td>...</td>\n",
       "      <td>...</td>\n",
       "      <td>...</td>\n",
       "      <td>...</td>\n",
       "    </tr>\n",
       "    <tr>\n",
       "      <th>125968</th>\n",
       "      <td>0.368519</td>\n",
       "      <td>0</td>\n",
       "      <td>25</td>\n",
       "      <td>0.10</td>\n",
       "      <td>0.06</td>\n",
       "      <td>0.00</td>\n",
       "      <td>0.216426</td>\n",
       "    </tr>\n",
       "    <tr>\n",
       "      <th>125969</th>\n",
       "      <td>-0.606907</td>\n",
       "      <td>0</td>\n",
       "      <td>244</td>\n",
       "      <td>0.96</td>\n",
       "      <td>0.01</td>\n",
       "      <td>0.01</td>\n",
       "      <td>0.652823</td>\n",
       "    </tr>\n",
       "    <tr>\n",
       "      <th>125970</th>\n",
       "      <td>-0.606907</td>\n",
       "      <td>1</td>\n",
       "      <td>30</td>\n",
       "      <td>0.12</td>\n",
       "      <td>0.06</td>\n",
       "      <td>0.00</td>\n",
       "      <td>-0.656367</td>\n",
       "    </tr>\n",
       "    <tr>\n",
       "      <th>125971</th>\n",
       "      <td>0.368519</td>\n",
       "      <td>0</td>\n",
       "      <td>8</td>\n",
       "      <td>0.03</td>\n",
       "      <td>0.05</td>\n",
       "      <td>0.00</td>\n",
       "      <td>0.216426</td>\n",
       "    </tr>\n",
       "    <tr>\n",
       "      <th>125972</th>\n",
       "      <td>-0.606907</td>\n",
       "      <td>1</td>\n",
       "      <td>77</td>\n",
       "      <td>0.30</td>\n",
       "      <td>0.03</td>\n",
       "      <td>0.30</td>\n",
       "      <td>0.652823</td>\n",
       "    </tr>\n",
       "  </tbody>\n",
       "</table>\n",
       "<p>125973 rows × 7 columns</p>\n",
       "</div>"
      ],
      "text/plain": [
       "            flag  logged_in  dst_host_srv_count  dst_host_same_srv_rate  \\\n",
       "0      -0.606907          0                  25                    0.17   \n",
       "1      -0.606907          0                   1                    0.00   \n",
       "2       0.368519          0                  26                    0.10   \n",
       "3      -0.606907          1                 255                    1.00   \n",
       "4      -0.606907          1                 255                    1.00   \n",
       "...          ...        ...                 ...                     ...   \n",
       "125968  0.368519          0                  25                    0.10   \n",
       "125969 -0.606907          0                 244                    0.96   \n",
       "125970 -0.606907          1                  30                    0.12   \n",
       "125971  0.368519          0                   8                    0.03   \n",
       "125972 -0.606907          1                  77                    0.30   \n",
       "\n",
       "        dst_host_diff_srv_rate  dst_host_same_src_port_rate  occurance  \n",
       "0                         0.03                         0.17   0.216426  \n",
       "1                         0.60                         0.88  -1.965556  \n",
       "2                         0.05                         0.00  -0.219970  \n",
       "3                         0.00                         0.03   0.652823  \n",
       "4                         0.00                         0.00   0.652823  \n",
       "...                        ...                          ...        ...  \n",
       "125968                    0.06                         0.00   0.216426  \n",
       "125969                    0.01                         0.01   0.652823  \n",
       "125970                    0.06                         0.00  -0.656367  \n",
       "125971                    0.05                         0.00   0.216426  \n",
       "125972                    0.03                         0.30   0.652823  \n",
       "\n",
       "[125973 rows x 7 columns]"
      ]
     },
     "execution_count": 735,
     "metadata": {},
     "output_type": "execute_result"
    }
   ],
   "source": [
    "df1"
   ]
  },
  {
   "cell_type": "code",
   "execution_count": 736,
   "id": "926fd750",
   "metadata": {},
   "outputs": [],
   "source": [
    "sse = []\n",
    "for k in range(1,11):\n",
    "    kmeans = KMeans(n_clusters=k, random_state = 10)\n",
    "    kmeans.fit(df1)\n",
    "    sse.append(kmeans.inertia_)"
   ]
  },
  {
   "cell_type": "code",
   "execution_count": 737,
   "id": "219d8377",
   "metadata": {},
   "outputs": [
    {
     "data": {
      "image/png": "[encoded data removed]",
      "text/plain": [
       "<Figure size 432x288 with 1 Axes>"
      ]
     },
     "metadata": {},
     "output_type": "display_data"
    }
   ],
   "source": [
    "number_of_clusters = range(1,11)\n",
    "plt.grid()\n",
    "plt.plot(number_of_clusters , sse , linewidth = 2 , color = 'red' , marker = \"8\")\n",
    "plt.title('Elbow Method')\n",
    "plt.xlabel(\"Number of Clusters\")\n",
    "plt.ylabel(\"SSE\")\n",
    "plt.show()"
   ]
  },
  {
   "cell_type": "code",
   "execution_count": 738,
   "id": "e833f050",
   "metadata": {},
   "outputs": [
    {
     "data": {
      "image/png": "[encoded data removed]",
      "text/plain": [
       "<Figure size 432x288 with 1 Axes>"
      ]
     },
     "metadata": {},
     "output_type": "display_data"
    }
   ],
   "source": [
    "\n",
    "\n",
    "pca = PCA(n_components=2)\n",
    "X_pca = pca.fit_transform(df1)  # Perform PCA to reduce the number of dimensions to 2\n",
    "\n",
    "\n",
    "kmeans = KMeans(n_clusters=5 , init='k-means++', random_state=10)\n",
    "kmeans.fit(X_pca)\n",
    "labels = kmeans.labels_\n",
    "centroids = kmeans.cluster_centers_    # Perform K-means clustering\n",
    "\n",
    "plt.scatter(X_pca[:, 0], X_pca[:, 1], c=labels, cmap='viridis')\n",
    "plt.xlabel('PC1')\n",
    "plt.ylabel('PC2')\n",
    "\n",
    "# Add cluster centroids to the plot\n",
    "plt.scatter(centroids[:, 0], centroids[:, 1], marker='o', s=100, linewidths=3, color='red', zorder=10)\n",
    "\n",
    "plt.show()\n",
    "\n",
    "\n"
   ]
  },
  {
   "cell_type": "code",
   "execution_count": null,
   "id": "4d852757",
   "metadata": {},
   "outputs": [],
   "source": []
  },
  {
   "cell_type": "code",
   "execution_count": null,
   "id": "3d85ba06",
   "metadata": {},
   "outputs": [],
   "source": []
  },
  {
   "cell_type": "code",
   "execution_count": null,
   "id": "34536e53",
   "metadata": {},
   "outputs": [],
   "source": []
  },
  {
   "cell_type": "code",
   "execution_count": null,
   "id": "6fb8e766",
   "metadata": {},
   "outputs": [],
   "source": []
  },
  {
   "cell_type": "code",
   "execution_count": null,
   "id": "8d23e179",
   "metadata": {},
   "outputs": [],
   "source": []
  },
  {
   "cell_type": "code",
   "execution_count": null,
   "id": "97951c21",
   "metadata": {},
   "outputs": [],
   "source": []
  },
  {
   "cell_type": "code",
   "execution_count": null,
   "id": "327fb67a",
   "metadata": {},
   "outputs": [],
   "source": []
  },
  {
   "cell_type": "code",
   "execution_count": null,
   "id": "7f11e000",
   "metadata": {},
   "outputs": [],
   "source": []
  },
  {
   "cell_type": "code",
   "execution_count": null,
   "id": "eb6fb4b6",
   "metadata": {},
   "outputs": [],
   "source": []
  }
 ],
 "metadata": {
  "kernelspec": {
   "display_name": "Python 3 (ipykernel)",
   "language": "python",
   "name": "python3"
  },
  "language_info": {
   "codemirror_mode": {
    "name": "ipython",
    "version": 3
   },
   "file_extension": ".py",
   "mimetype": "text/x-python",
   "name": "python",
   "nbconvert_exporter": "python",
   "pygments_lexer": "ipython3",
   "version": "3.9.7"
  }
 },
 "nbformat": 4,
 "nbformat_minor": 5
}
